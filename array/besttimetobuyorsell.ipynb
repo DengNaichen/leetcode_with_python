{
 "cells": [
  {
   "cell_type": "code",
   "execution_count": 7,
   "metadata": {
    "collapsed": true
   },
   "outputs": [],
   "source": [
    "# that is my code:\n",
    "def maxProfit (price):\n",
    "    if len(price) == 0 or len(price) == 1:\n",
    "        return 0\n",
    "    else:\n",
    "        difference = []\n",
    "        for i in range (len(price) - 1):\n",
    "            low = price[i]\n",
    "            high = max(price[i + 1:])\n",
    "            if low < high:\n",
    "                difference.append(high - low)\n",
    "            else:\n",
    "                difference.append(0)\n",
    "        return max(difference)\n"
   ]
  },
  {
   "cell_type": "markdown",
   "source": [
    "here is the solution：\n",
    "用了动态规划的思想？？"
   ],
   "metadata": {
    "collapsed": false,
    "pycharm": {
     "name": "#%% md\n"
    }
   }
  },
  {
   "cell_type": "code",
   "execution_count": 10,
   "outputs": [],
   "source": [
    "def maxProfit_solution(prices):\n",
    "    minprice = int(1e9)\n",
    "    max_profit = 0\n",
    "    for price in prices:\n",
    "        max_profit = max(price - minprice, max_profit)\n",
    "        minprice = min(price, minprice)\n",
    "\n",
    "    return max_profit\n"
   ],
   "metadata": {
    "collapsed": false,
    "pycharm": {
     "name": "#%%\n"
    }
   }
  },
  {
   "cell_type": "code",
   "execution_count": 12,
   "outputs": [
    {
     "data": {
      "text/plain": "3"
     },
     "execution_count": 12,
     "metadata": {},
     "output_type": "execute_result"
    }
   ],
   "source": [
    "maxProfit_solution([7,6,1,2,3,4])"
   ],
   "metadata": {
    "collapsed": false,
    "pycharm": {
     "name": "#%%\n"
    }
   }
  },
  {
   "cell_type": "markdown",
   "source": [
    "第二题"
   ],
   "metadata": {
    "collapsed": false,
    "pycharm": {
     "name": "#%% md\n"
    }
   }
  },
  {
   "cell_type": "code",
   "execution_count": 23,
   "outputs": [],
   "source": [
    "def maxPorfit_2 (prices):\n",
    "    maxprofit = 0\n",
    "    if len(prices) == 0 or len(prices) == 1:\n",
    "        return 0\n",
    "    else:\n",
    "        for i in range(len(prices) - 1):\n",
    "            cur = prices[i]\n",
    "            nex = prices[i + 1]\n",
    "            if nex > cur:\n",
    "                maxprofit += nex - cur\n",
    "        return  maxprofit"
   ],
   "metadata": {
    "collapsed": false,
    "pycharm": {
     "name": "#%%\n"
    }
   }
  },
  {
   "cell_type": "code",
   "execution_count": 24,
   "outputs": [
    {
     "data": {
      "text/plain": "7"
     },
     "execution_count": 24,
     "metadata": {},
     "output_type": "execute_result"
    }
   ],
   "source": [
    "maxPorfit_2([7,1,5,3,6,4])"
   ],
   "metadata": {
    "collapsed": false,
    "pycharm": {
     "name": "#%%\n"
    }
   }
  },
  {
   "cell_type": "code",
   "execution_count": 25,
   "outputs": [
    {
     "data": {
      "text/plain": "6"
     },
     "execution_count": 25,
     "metadata": {},
     "output_type": "execute_result"
    }
   ],
   "source": [
    "a = [7,1,5,3,6,4]\n",
    "max(a[1:])"
   ],
   "metadata": {
    "collapsed": false,
    "pycharm": {
     "name": "#%%\n"
    }
   }
  },
  {
   "cell_type": "code",
   "execution_count": null,
   "outputs": [],
   "source": [],
   "metadata": {
    "collapsed": false,
    "pycharm": {
     "name": "#%%\n"
    }
   }
  }
 ],
 "metadata": {
  "kernelspec": {
   "display_name": "Python 3",
   "language": "python",
   "name": "python3"
  },
  "language_info": {
   "codemirror_mode": {
    "name": "ipython",
    "version": 2
   },
   "file_extension": ".py",
   "mimetype": "text/x-python",
   "name": "python",
   "nbconvert_exporter": "python",
   "pygments_lexer": "ipython2",
   "version": "2.7.6"
  }
 },
 "nbformat": 4,
 "nbformat_minor": 0
}