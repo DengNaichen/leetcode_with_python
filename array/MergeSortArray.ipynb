{
 "cells": [
  {
   "cell_type": "code",
   "execution_count": 59,
   "metadata": {
    "collapsed": true
   },
   "outputs": [],
   "source": [
    "def merge(nums1, nums2):\n",
    "    if len(nums2) == 0:\n",
    "        pass\n",
    "    else:\n",
    "        j = 0\n",
    "        for i in range (len(nums1)):\n",
    "            if nums1[i] >= nums2[j]:\n",
    "                nums1.insert(i, nums2[j])\n",
    "                j += 1\n",
    "                nums1.pop(-1)\n",
    "                if j == len(nums2): break\n",
    "\n",
    "        for i in range (len(nums1) - (len(nums2) - j), len(nums1)):\n",
    "            nums1[i] = nums2[j]\n",
    "            j += 1\n",
    "\n"
   ]
  },
  {
   "cell_type": "code",
   "execution_count": 67,
   "outputs": [],
   "source": [
    "def merge_2(nums1, nums2):\n",
    "    i, j = 0, 0\n",
    "    while i < len(nums1) and j < len(nums2):\n",
    "        if nums1[i] >= nums2[j]:\n",
    "            nums1.insert(i, nums2[j])\n",
    "            j += 1\n",
    "            i += 1\n",
    "            nums1.pop(-1)\n",
    "        else:\n",
    "            i += 1\n",
    "    for i in range (len(nums1) - (len(nums2) - j), len(nums1)):\n",
    "            nums1[i] = nums2[j]\n",
    "            j += 1"
   ],
   "metadata": {
    "collapsed": false,
    "pycharm": {
     "name": "#%%\n"
    }
   }
  },
  {
   "cell_type": "code",
   "execution_count": 78,
   "outputs": [],
   "source": [
    "a = [1,2,3,4]\n",
    "b = []\n",
    "merge_2(a,b)"
   ],
   "metadata": {
    "collapsed": false,
    "pycharm": {
     "name": "#%%\n"
    }
   }
  },
  {
   "cell_type": "code",
   "execution_count": 79,
   "outputs": [
    {
     "data": {
      "text/plain": "[1, 2, 3, 4]"
     },
     "execution_count": 79,
     "metadata": {},
     "output_type": "execute_result"
    }
   ],
   "source": [
    "a"
   ],
   "metadata": {
    "collapsed": false,
    "pycharm": {
     "name": "#%%\n"
    }
   }
  },
  {
   "cell_type": "code",
   "execution_count": 6,
   "outputs": [],
   "source": [
    "for i in range (-1,-10, 1):\n",
    "    print (i)"
   ],
   "metadata": {
    "collapsed": false,
    "pycharm": {
     "name": "#%%\n"
    }
   }
  },
  {
   "cell_type": "code",
   "execution_count": null,
   "outputs": [],
   "source": [],
   "metadata": {
    "collapsed": false,
    "pycharm": {
     "name": "#%%\n"
    }
   }
  }
 ],
 "metadata": {
  "kernelspec": {
   "display_name": "Python 3",
   "language": "python",
   "name": "python3"
  },
  "language_info": {
   "codemirror_mode": {
    "name": "ipython",
    "version": 2
   },
   "file_extension": ".py",
   "mimetype": "text/x-python",
   "name": "python",
   "nbconvert_exporter": "python",
   "pygments_lexer": "ipython2",
   "version": "2.7.6"
  }
 },
 "nbformat": 4,
 "nbformat_minor": 0
}