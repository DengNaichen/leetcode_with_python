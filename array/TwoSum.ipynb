{
 "cells": [
  {
   "cell_type": "code",
   "execution_count": 13,
   "metadata": {
    "collapsed": true
   },
   "outputs": [],
   "source": [
    "def twoSum (nums, target):\n",
    "    n = len(nums)\n",
    "    for i in range (n):\n",
    "        low = i + 1\n",
    "        high = n - 1\n",
    "        while low <= high:\n",
    "            mid = (low + high) // 2\n",
    "            if nums[mid] == target - nums[i]:\n",
    "                return [i+1, mid+1]\n",
    "            elif mid > target - nums[i]:\n",
    "                high = mid -1\n",
    "            else:\n",
    "                low = mid + 1\n",
    "\n",
    "\n",
    "\n",
    "\n",
    "\n"
   ]
  },
  {
   "cell_type": "code",
   "execution_count": 20,
   "outputs": [],
   "source": [
    "def twoSum(numbers, target):\n",
    "        n = len(numbers)\n",
    "        for i in range(n):\n",
    "            low, high = i + 1, n - 1\n",
    "            while low <= high:\n",
    "                mid = (low + high) // 2\n",
    "                if numbers[mid] == target - numbers[i]:\n",
    "                    return [i + 1, mid + 1]\n",
    "                elif numbers[mid] > target - numbers[i]:\n",
    "                    high = mid - 1\n",
    "                else:\n",
    "                    low = mid + 1"
   ],
   "metadata": {
    "collapsed": false,
    "pycharm": {
     "name": "#%%\n"
    }
   }
  },
  {
   "cell_type": "code",
   "execution_count": 21,
   "outputs": [
    {
     "data": {
      "text/plain": "[1, 3]"
     },
     "execution_count": 21,
     "metadata": {},
     "output_type": "execute_result"
    }
   ],
   "source": [
    "twoSum([1,2,3,4,5], 4)\n"
   ],
   "metadata": {
    "collapsed": false,
    "pycharm": {
     "name": "#%%\n"
    }
   }
  },
  {
   "cell_type": "code",
   "execution_count": null,
   "outputs": [],
   "source": [],
   "metadata": {
    "collapsed": false,
    "pycharm": {
     "name": "#%%\n"
    }
   }
  }
 ],
 "metadata": {
  "kernelspec": {
   "display_name": "Python 3",
   "language": "python",
   "name": "python3"
  },
  "language_info": {
   "codemirror_mode": {
    "name": "ipython",
    "version": 2
   },
   "file_extension": ".py",
   "mimetype": "text/x-python",
   "name": "python",
   "nbconvert_exporter": "python",
   "pygments_lexer": "ipython2",
   "version": "2.7.6"
  }
 },
 "nbformat": 4,
 "nbformat_minor": 0
}