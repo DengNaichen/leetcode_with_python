{
 "cells": [
  {
   "cell_type": "code",
   "execution_count": 2,
   "metadata": {
    "collapsed": true
   },
   "outputs": [],
   "source": [
    "def containDuplicate (nums):\n",
    "    if len(nums) == 0 or len(nums) == 1:\n",
    "        return False\n",
    "    else:\n",
    "        nums.sort()\n",
    "        for i in range (len(nums) - 1):\n",
    "            if nums[i] == nums[i+1]:\n",
    "                return True\n",
    "        return False"
   ]
  },
  {
   "cell_type": "code",
   "execution_count": 41,
   "outputs": [
    {
     "data": {
      "text/plain": "True"
     },
     "execution_count": 41,
     "metadata": {},
     "output_type": "execute_result"
    }
   ],
   "source": [
    "a = [1,2,3,4,3]\n",
    "containDuplicate(a)"
   ],
   "metadata": {
    "collapsed": false,
    "pycharm": {
     "name": "#%%\n"
    }
   }
  },
  {
   "cell_type": "code",
   "execution_count": 57,
   "outputs": [],
   "source": [
    "## 其实这个是不行的，因为题目要求是nearby， nearby的话就不用储存所有的\n",
    "def containDuplicate_II (nums, k):\n",
    "    if len(nums) == 0 or len(nums) == 1:\n",
    "        return False\n",
    "    else:\n",
    "        h = {}\n",
    "        for index, value in enumerate(nums):\n",
    "            if value in h:\n",
    "                h[value].append(index)\n",
    "            else:\n",
    "                h[value] = [index]\n",
    "        for i in h:\n",
    "            if h[i][-1] - h[i][0] <= k:\n",
    "                return True\n",
    "            else:\n",
    "                return False\n"
   ],
   "metadata": {
    "collapsed": false,
    "pycharm": {
     "name": "#%%\n"
    }
   }
  },
  {
   "cell_type": "code",
   "source": [
    "containDuplicate_II(a,2)"
   ],
   "metadata": {
    "collapsed": false,
    "pycharm": {
     "name": "#%%\n"
    }
   },
   "execution_count": 58,
   "outputs": [
    {
     "data": {
      "text/plain": "True"
     },
     "execution_count": 58,
     "metadata": {},
     "output_type": "execute_result"
    }
   ]
  },
  {
   "cell_type": "code",
   "execution_count": null,
   "outputs": [],
   "source": [
    "class Solution:\n",
    "    def containsNearbyDuplicate(self, nums: List[int], k: int) -> bool:\n",
    "        if len(nums) == 0 or len(nums) == 1:\n",
    "            return False\n",
    "        else:\n",
    "            h = {}\n",
    "            for index, value in enumerate(nums):\n",
    "                if value in h and (index - h[value]) <= k:\n",
    "                    return True\n",
    "                h[value] = index\n",
    "            return False\n"
   ],
   "metadata": {
    "collapsed": false,
    "pycharm": {
     "name": "#%%\n"
    }
   }
  }
 ],
 "metadata": {
  "kernelspec": {
   "display_name": "Python 3",
   "language": "python",
   "name": "python3"
  },
  "language_info": {
   "codemirror_mode": {
    "name": "ipython",
    "version": 2
   },
   "file_extension": ".py",
   "mimetype": "text/x-python",
   "name": "python",
   "nbconvert_exporter": "python",
   "pygments_lexer": "ipython2",
   "version": "2.7.6"
  }
 },
 "nbformat": 4,
 "nbformat_minor": 0
}