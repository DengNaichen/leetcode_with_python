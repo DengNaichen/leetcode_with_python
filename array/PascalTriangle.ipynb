{
 "cells": [
  {
   "cell_type": "code",
   "execution_count": 32,
   "metadata": {
    "collapsed": true
   },
   "outputs": [],
   "source": [
    "def generation(numRow):\n",
    "    triangle = []\n",
    "    for i in range (numRow):\n",
    "        cur = [None] * (i + 1)\n",
    "        if i == 0:\n",
    "            cur[0] = 1\n",
    "        else:\n",
    "            cur[0] = pre[0]\n",
    "            cur[-1] = pre[-1]\n",
    "            for j in range(1, i):\n",
    "                cur[j] = pre[j-1] + pre[j]\n",
    "        pre = cur\n",
    "        triangle.append(cur)\n",
    "    return triangle"
   ]
  },
  {
   "cell_type": "code",
   "execution_count": 33,
   "outputs": [
    {
     "data": {
      "text/plain": "[[1], [1, 1], [1, 2, 1], [1, 3, 3, 1], [1, 4, 6, 4, 1]]"
     },
     "execution_count": 33,
     "metadata": {},
     "output_type": "execute_result"
    }
   ],
   "source": [
    "generation(5)"
   ],
   "metadata": {
    "collapsed": false,
    "pycharm": {
     "name": "#%%\n"
    }
   }
  },
  {
   "cell_type": "code",
   "execution_count": 39,
   "outputs": [],
   "source": [
    "def getRow (rowIndex):\n",
    "    for i in range (rowIndex + 1):\n",
    "        cur = [None] * (i + 1)\n",
    "        if i == 0:\n",
    "            cur[0] = 1\n",
    "        else:\n",
    "            cur[0] = pre[0]\n",
    "            cur[-1] = pre[-1]\n",
    "            for j in range(1, i):\n",
    "                cur[j] = pre[j-1] + pre[j]\n",
    "        pre = cur\n",
    "    return cur\n",
    "\n",
    "\n"
   ],
   "metadata": {
    "collapsed": false,
    "pycharm": {
     "name": "#%%\n"
    }
   }
  },
  {
   "cell_type": "code",
   "execution_count": 40,
   "outputs": [
    {
     "data": {
      "text/plain": "[1, 3, 3, 1]"
     },
     "execution_count": 40,
     "metadata": {},
     "output_type": "execute_result"
    }
   ],
   "source": [
    "getRow(3)"
   ],
   "metadata": {
    "collapsed": false,
    "pycharm": {
     "name": "#%%\n"
    }
   }
  },
  {
   "cell_type": "code",
   "execution_count": null,
   "outputs": [],
   "source": [],
   "metadata": {
    "collapsed": false,
    "pycharm": {
     "name": "#%%\n"
    }
   }
  }
 ],
 "metadata": {
  "kernelspec": {
   "display_name": "Python 3",
   "language": "python",
   "name": "python3"
  },
  "language_info": {
   "codemirror_mode": {
    "name": "ipython",
    "version": 2
   },
   "file_extension": ".py",
   "mimetype": "text/x-python",
   "name": "python",
   "nbconvert_exporter": "python",
   "pygments_lexer": "ipython2",
   "version": "2.7.6"
  }
 },
 "nbformat": 4,
 "nbformat_minor": 0
}