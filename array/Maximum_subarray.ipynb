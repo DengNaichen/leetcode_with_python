{
 "cells": [
  {
   "cell_type": "code",
   "execution_count": null,
   "metadata": {
    "collapsed": true
   },
   "outputs": [],
   "source": [
    "# 分治法有点难， 先不写了\n",
    "class Solution:\n",
    "    def maxsubarray(self, nums):\n",
    "        if len(nums) == 1:\n",
    "            return nums[0]\n",
    "\n",
    "        else:\n",
    "            max_left = self.maxsubarray(nums[0: len(nums)//2])\n",
    "            max_right = self.maxsubarray(len(nums)//2, len(nums))\n",
    "\n",
    "        max_1 = nums[len(nums)//2 - 1]\n",
    "\n",
    "\n",
    "\n"
   ]
  }
 ],
 "metadata": {
  "kernelspec": {
   "display_name": "Python 3",
   "language": "python",
   "name": "python3"
  },
  "language_info": {
   "codemirror_mode": {
    "name": "ipython",
    "version": 2
   },
   "file_extension": ".py",
   "mimetype": "text/x-python",
   "name": "python",
   "nbconvert_exporter": "python",
   "pygments_lexer": "ipython2",
   "version": "2.7.6"
  }
 },
 "nbformat": 4,
 "nbformat_minor": 0
}